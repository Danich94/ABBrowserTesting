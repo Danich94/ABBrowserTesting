{
 "cells": [
  {
   "cell_type": "markdown",
   "metadata": {},
   "source": [
    "## Анализ результатов АБ-теста по влиянию изменений на web-странице на действия пользователей в браузере. "
   ]
  },
  {
   "cell_type": "markdown",
   "metadata": {},
   "source": [
    "### Описание данных"
   ]
  },
  {
   "cell_type": "markdown",
   "metadata": {},
   "source": [
    "В нашем распоряжении имеются данные после АБ-теста, проведенного на реальных пользователях Яндекса. \n",
    "Данные содержат информацию по кликам пользователей на «контрольной» и «экспериментальной» версиях web-страницы.\n",
    "\n",
    "Есть информация о том, с какого браузера заходил пользователь, какое количество запросов он совершил, какое количество кликов он совершил в данных запросах, а также информация о покупках пользователя.\n",
    "\n",
    "- userID: уникальный идентификатор пользователя\n",
    "- browser: браузер, который использовал userID\n",
    "- slot: в каком статусе пользователь участвовал в исследовании (exp = видел измененную страницу, control = видел неизменную страницу)\n",
    "- n_clicks: количество кликов, которые пользователь совершил за n_queries\n",
    "- n_queries: количество запросов, который совершил userID, пользуясь браузером browser\n",
    "- n_nonclk_queries: количество запросов пользователя, в которых им не было совершено ни одного клика\n",
    "\n",
    "Особенность данных: не все люди используют только один браузер, поэтому в столбце userID есть повторяющиеся идентификаторы. В предлагаемых данных уникальным является сочетание userID и browser.\n",
    "\n",
    "Основная используемая метрика: количество пользовательских кликов на web-странице в зависимости от тестируемого изменения этой страницы."
   ]
  },
  {
   "cell_type": "markdown",
   "metadata": {},
   "source": [
    "### Постановка задачи"
   ]
  },
  {
   "cell_type": "markdown",
   "metadata": {},
   "source": [
    "- проанализировать АБ тест, проведенный на реальных пользователях Яндекса;\n",
    "- подтвердить или опровергнуть наличие изменений в пользовательском поведении между контрольной (control) и тестовой (exp) группами;\n",
    "- определить характер этих изменений и практическую значимость вводимого изменения;\n",
    "- понять, какая из пользовательских групп более всего проигрывает / выигрывает от тестируемого изменения (локализовать изменение)."
   ]
  },
  {
   "cell_type": "markdown",
   "metadata": {},
   "source": [
    "#### Импортируем необходимые библиотеки"
   ]
  },
  {
   "cell_type": "code",
   "execution_count": 1,
   "metadata": {},
   "outputs": [],
   "source": [
    "import pandas as pd\n",
    "import numpy as np\n",
    "from scipy import stats\n",
    "import statsmodels.api as sm\n",
    "from statsmodels.stats.multitest import multipletests\n",
    "from tqdm import tqdm\n",
    "\n",
    "import seaborn as sns\n",
    "from matplotlib import pyplot as plt\n",
    "%matplotlib inline\n",
    "\n",
    "from IPython.core.interactiveshell import InteractiveShell\n",
    "InteractiveShell.ast_node_interactivity = 'all'"
   ]
  },
  {
   "cell_type": "markdown",
   "metadata": {},
   "source": [
    "### 1. Анализ данных АБ-теста"
   ]
  },
  {
   "cell_type": "code",
   "execution_count": 2,
   "metadata": {},
   "outputs": [
    {
     "data": {
      "text/html": [
       "<div>\n",
       "<style scoped>\n",
       "    .dataframe tbody tr th:only-of-type {\n",
       "        vertical-align: middle;\n",
       "    }\n",
       "\n",
       "    .dataframe tbody tr th {\n",
       "        vertical-align: top;\n",
       "    }\n",
       "\n",
       "    .dataframe thead th {\n",
       "        text-align: right;\n",
       "    }\n",
       "</style>\n",
       "<table border=\"1\" class=\"dataframe\">\n",
       "  <thead>\n",
       "    <tr style=\"text-align: right;\">\n",
       "      <th></th>\n",
       "      <th>userID</th>\n",
       "      <th>browser</th>\n",
       "      <th>slot</th>\n",
       "      <th>n_clicks</th>\n",
       "      <th>n_queries</th>\n",
       "      <th>n_nonclk_queries</th>\n",
       "    </tr>\n",
       "  </thead>\n",
       "  <tbody>\n",
       "    <tr>\n",
       "      <th>0</th>\n",
       "      <td>1</td>\n",
       "      <td>Browser #2</td>\n",
       "      <td>exp</td>\n",
       "      <td>23</td>\n",
       "      <td>32</td>\n",
       "      <td>19</td>\n",
       "    </tr>\n",
       "    <tr>\n",
       "      <th>1</th>\n",
       "      <td>3</td>\n",
       "      <td>Browser #4</td>\n",
       "      <td>exp</td>\n",
       "      <td>3</td>\n",
       "      <td>4</td>\n",
       "      <td>2</td>\n",
       "    </tr>\n",
       "    <tr>\n",
       "      <th>2</th>\n",
       "      <td>5</td>\n",
       "      <td>Browser #4</td>\n",
       "      <td>exp</td>\n",
       "      <td>29</td>\n",
       "      <td>35</td>\n",
       "      <td>16</td>\n",
       "    </tr>\n",
       "    <tr>\n",
       "      <th>3</th>\n",
       "      <td>6</td>\n",
       "      <td>Browser #4</td>\n",
       "      <td>control</td>\n",
       "      <td>12</td>\n",
       "      <td>6</td>\n",
       "      <td>0</td>\n",
       "    </tr>\n",
       "    <tr>\n",
       "      <th>4</th>\n",
       "      <td>7</td>\n",
       "      <td>Browser #4</td>\n",
       "      <td>exp</td>\n",
       "      <td>54</td>\n",
       "      <td>68</td>\n",
       "      <td>30</td>\n",
       "    </tr>\n",
       "  </tbody>\n",
       "</table>\n",
       "</div>"
      ],
      "text/plain": [
       "   userID     browser     slot  n_clicks  n_queries  n_nonclk_queries\n",
       "0       1  Browser #2      exp        23         32                19\n",
       "1       3  Browser #4      exp         3          4                 2\n",
       "2       5  Browser #4      exp        29         35                16\n",
       "3       6  Browser #4  control        12          6                 0\n",
       "4       7  Browser #4      exp        54         68                30"
      ]
     },
     "execution_count": 2,
     "metadata": {},
     "output_type": "execute_result"
    },
    {
     "name": "stdout",
     "output_type": "stream",
     "text": [
      "<class 'pandas.core.frame.DataFrame'>\n",
      "RangeIndex: 566134 entries, 0 to 566133\n",
      "Data columns (total 6 columns):\n",
      " #   Column            Non-Null Count   Dtype \n",
      "---  ------            --------------   ----- \n",
      " 0   userID            566134 non-null  int64 \n",
      " 1   browser           566134 non-null  object\n",
      " 2   slot              566134 non-null  object\n",
      " 3   n_clicks          566134 non-null  int64 \n",
      " 4   n_queries         566134 non-null  int64 \n",
      " 5   n_nonclk_queries  566134 non-null  int64 \n",
      "dtypes: int64(4), object(2)\n",
      "memory usage: 25.9+ MB\n"
     ]
    }
   ],
   "source": [
    "browser_data = pd.read_csv('ab_browser_test.csv')\n",
    "browser_data.head()\n",
    "browser_data.info()"
   ]
  },
  {
   "cell_type": "markdown",
   "metadata": {},
   "source": [
    "Видим, что в данных нет пропущенных значений."
   ]
  },
  {
   "cell_type": "markdown",
   "metadata": {},
   "source": [
    "Изменим текстовые значения в столбце `browser` на целочисленные для удобства."
   ]
  },
  {
   "cell_type": "code",
   "execution_count": 3,
   "metadata": {},
   "outputs": [
    {
     "data": {
      "text/html": [
       "<div>\n",
       "<style scoped>\n",
       "    .dataframe tbody tr th:only-of-type {\n",
       "        vertical-align: middle;\n",
       "    }\n",
       "\n",
       "    .dataframe tbody tr th {\n",
       "        vertical-align: top;\n",
       "    }\n",
       "\n",
       "    .dataframe thead th {\n",
       "        text-align: right;\n",
       "    }\n",
       "</style>\n",
       "<table border=\"1\" class=\"dataframe\">\n",
       "  <thead>\n",
       "    <tr style=\"text-align: right;\">\n",
       "      <th></th>\n",
       "      <th>userID</th>\n",
       "      <th>browser</th>\n",
       "      <th>slot</th>\n",
       "      <th>n_clicks</th>\n",
       "      <th>n_queries</th>\n",
       "      <th>n_nonclk_queries</th>\n",
       "    </tr>\n",
       "  </thead>\n",
       "  <tbody>\n",
       "    <tr>\n",
       "      <th>0</th>\n",
       "      <td>1</td>\n",
       "      <td>2</td>\n",
       "      <td>exp</td>\n",
       "      <td>23</td>\n",
       "      <td>32</td>\n",
       "      <td>19</td>\n",
       "    </tr>\n",
       "    <tr>\n",
       "      <th>1</th>\n",
       "      <td>3</td>\n",
       "      <td>4</td>\n",
       "      <td>exp</td>\n",
       "      <td>3</td>\n",
       "      <td>4</td>\n",
       "      <td>2</td>\n",
       "    </tr>\n",
       "    <tr>\n",
       "      <th>2</th>\n",
       "      <td>5</td>\n",
       "      <td>4</td>\n",
       "      <td>exp</td>\n",
       "      <td>29</td>\n",
       "      <td>35</td>\n",
       "      <td>16</td>\n",
       "    </tr>\n",
       "    <tr>\n",
       "      <th>3</th>\n",
       "      <td>6</td>\n",
       "      <td>4</td>\n",
       "      <td>control</td>\n",
       "      <td>12</td>\n",
       "      <td>6</td>\n",
       "      <td>0</td>\n",
       "    </tr>\n",
       "    <tr>\n",
       "      <th>4</th>\n",
       "      <td>7</td>\n",
       "      <td>4</td>\n",
       "      <td>exp</td>\n",
       "      <td>54</td>\n",
       "      <td>68</td>\n",
       "      <td>30</td>\n",
       "    </tr>\n",
       "  </tbody>\n",
       "</table>\n",
       "</div>"
      ],
      "text/plain": [
       "   userID  browser     slot  n_clicks  n_queries  n_nonclk_queries\n",
       "0       1        2      exp        23         32                19\n",
       "1       3        4      exp         3          4                 2\n",
       "2       5        4      exp        29         35                16\n",
       "3       6        4  control        12          6                 0\n",
       "4       7        4      exp        54         68                30"
      ]
     },
     "execution_count": 3,
     "metadata": {},
     "output_type": "execute_result"
    }
   ],
   "source": [
    "browser_data['browser'] = browser_data['browser'].apply(lambda x: int(x.split('#')[1]))\n",
    "browser_data.head()"
   ]
  },
  {
   "cell_type": "markdown",
   "metadata": {},
   "source": [
    "##### Посмотрим разбиение пользователей по группам (экспериментальная, тестовая), а также по группе и версии браузера."
   ]
  },
  {
   "cell_type": "code",
   "execution_count": 4,
   "metadata": {
    "scrolled": true
   },
   "outputs": [
    {
     "data": {
      "text/html": [
       "<div>\n",
       "<style scoped>\n",
       "    .dataframe tbody tr th:only-of-type {\n",
       "        vertical-align: middle;\n",
       "    }\n",
       "\n",
       "    .dataframe tbody tr th {\n",
       "        vertical-align: top;\n",
       "    }\n",
       "\n",
       "    .dataframe thead th {\n",
       "        text-align: right;\n",
       "    }\n",
       "</style>\n",
       "<table border=\"1\" class=\"dataframe\">\n",
       "  <thead>\n",
       "    <tr style=\"text-align: right;\">\n",
       "      <th></th>\n",
       "      <th>userID</th>\n",
       "    </tr>\n",
       "    <tr>\n",
       "      <th>slot</th>\n",
       "      <th></th>\n",
       "    </tr>\n",
       "  </thead>\n",
       "  <tbody>\n",
       "    <tr>\n",
       "      <th>control</th>\n",
       "      <td>284554</td>\n",
       "    </tr>\n",
       "    <tr>\n",
       "      <th>exp</th>\n",
       "      <td>281580</td>\n",
       "    </tr>\n",
       "  </tbody>\n",
       "</table>\n",
       "</div>"
      ],
      "text/plain": [
       "         userID\n",
       "slot           \n",
       "control  284554\n",
       "exp      281580"
      ]
     },
     "execution_count": 4,
     "metadata": {},
     "output_type": "execute_result"
    },
    {
     "data": {
      "text/html": [
       "<div>\n",
       "<style scoped>\n",
       "    .dataframe tbody tr th:only-of-type {\n",
       "        vertical-align: middle;\n",
       "    }\n",
       "\n",
       "    .dataframe tbody tr th {\n",
       "        vertical-align: top;\n",
       "    }\n",
       "\n",
       "    .dataframe thead th {\n",
       "        text-align: right;\n",
       "    }\n",
       "</style>\n",
       "<table border=\"1\" class=\"dataframe\">\n",
       "  <thead>\n",
       "    <tr style=\"text-align: right;\">\n",
       "      <th></th>\n",
       "      <th></th>\n",
       "      <th>userID</th>\n",
       "    </tr>\n",
       "    <tr>\n",
       "      <th>slot</th>\n",
       "      <th>browser</th>\n",
       "      <th></th>\n",
       "    </tr>\n",
       "  </thead>\n",
       "  <tbody>\n",
       "    <tr>\n",
       "      <th rowspan=\"6\" valign=\"top\">control</th>\n",
       "      <th>2</th>\n",
       "      <td>55793</td>\n",
       "    </tr>\n",
       "    <tr>\n",
       "      <th>4</th>\n",
       "      <td>78681</td>\n",
       "    </tr>\n",
       "    <tr>\n",
       "      <th>14</th>\n",
       "      <td>44903</td>\n",
       "    </tr>\n",
       "    <tr>\n",
       "      <th>17</th>\n",
       "      <td>16354</td>\n",
       "    </tr>\n",
       "    <tr>\n",
       "      <th>20</th>\n",
       "      <td>16998</td>\n",
       "    </tr>\n",
       "    <tr>\n",
       "      <th>22</th>\n",
       "      <td>71825</td>\n",
       "    </tr>\n",
       "    <tr>\n",
       "      <th rowspan=\"6\" valign=\"top\">exp</th>\n",
       "      <th>2</th>\n",
       "      <td>54944</td>\n",
       "    </tr>\n",
       "    <tr>\n",
       "      <th>4</th>\n",
       "      <td>78152</td>\n",
       "    </tr>\n",
       "    <tr>\n",
       "      <th>14</th>\n",
       "      <td>44220</td>\n",
       "    </tr>\n",
       "    <tr>\n",
       "      <th>17</th>\n",
       "      <td>16253</td>\n",
       "    </tr>\n",
       "    <tr>\n",
       "      <th>20</th>\n",
       "      <td>16931</td>\n",
       "    </tr>\n",
       "    <tr>\n",
       "      <th>22</th>\n",
       "      <td>71080</td>\n",
       "    </tr>\n",
       "  </tbody>\n",
       "</table>\n",
       "</div>"
      ],
      "text/plain": [
       "                 userID\n",
       "slot    browser        \n",
       "control 2         55793\n",
       "        4         78681\n",
       "        14        44903\n",
       "        17        16354\n",
       "        20        16998\n",
       "        22        71825\n",
       "exp     2         54944\n",
       "        4         78152\n",
       "        14        44220\n",
       "        17        16253\n",
       "        20        16931\n",
       "        22        71080"
      ]
     },
     "execution_count": 4,
     "metadata": {},
     "output_type": "execute_result"
    }
   ],
   "source": [
    "browser_data.groupby('slot')[['userID']].count()\n",
    "browser_data.groupby(['slot', 'browser'])[['userID']].count()"
   ]
  },
  {
   "cell_type": "code",
   "execution_count": 5,
   "metadata": {},
   "outputs": [
    {
     "data": {
      "image/png": "[encoded data removed]",
      "text/plain": [
       "<Figure size 1296x360 with 2 Axes>"
      ]
     },
     "metadata": {
      "needs_background": "light"
     },
     "output_type": "display_data"
    }
   ],
   "source": [
    "fig, axes = plt.subplots(1,2, figsize=(18,5))\n",
    "axes[0].set_title(\"Распределение числа пользователей по группам\", fontsize = 15)\n",
    "axes[1].set_title(\"Распределение числа пользователей по группам и версии браузера\", fontsize = 15)\n",
    "sns.countplot(x='slot', data=browser_data, ax=axes[0])\n",
    "sns.countplot(x='slot', hue='browser', data=browser_data, ax=axes[1]);"
   ]
  },
  {
   "cell_type": "markdown",
   "metadata": {},
   "source": [
    "Видим, что пользователи распределены практически равномерно в разрезе по группам, в тот числе и в разрезе по группе и версии браузера."
   ]
  },
  {
   "cell_type": "markdown",
   "metadata": {},
   "source": [
    "В разрезе версий браузера посмотрим в каждой из двух групп (контрольная и экспериментальная) посчитаем долю запросов, в которых пользователь не кликнул ни разу."
   ]
  },
  {
   "cell_type": "code",
   "execution_count": 6,
   "metadata": {},
   "outputs": [
    {
     "data": {
      "text/plain": [
       "browser  slot   \n",
       "2        control    0.459627\n",
       "         exp        0.449827\n",
       "4        control    0.469709\n",
       "         exp        0.451429\n",
       "14       control    0.575904\n",
       "         exp        0.437556\n",
       "17       control    0.362994\n",
       "         exp        0.369374\n",
       "20       control    0.405405\n",
       "         exp        0.389774\n",
       "22       control    0.405940\n",
       "         exp        0.398539\n",
       "dtype: float64"
      ]
     },
     "execution_count": 6,
     "metadata": {},
     "output_type": "execute_result"
    }
   ],
   "source": [
    "browser_data.groupby(['browser','slot'])['n_nonclk_queries'].sum()/browser_data.groupby(['browser','slot'])['n_queries'].sum()"
   ]
  },
  {
   "cell_type": "markdown",
   "metadata": {},
   "source": [
    "Видим большое различие по доле некликов на запросы по группам в браузере с версией 14. В дальнейшем проверим, является ли это отличие статистически значимым."
   ]
  },
  {
   "cell_type": "markdown",
   "metadata": {},
   "source": [
    "##### Посмотрим различия по пользовательским кликам в экспериментальной и контрольной группе."
   ]
  },
  {
   "cell_type": "code",
   "execution_count": 7,
   "metadata": {
    "scrolled": true
   },
   "outputs": [
    {
     "data": {
      "text/plain": [
       "slot\n",
       "control    3210027\n",
       "exp        3261823\n",
       "Name: n_clicks, dtype: int64"
      ]
     },
     "execution_count": 7,
     "metadata": {},
     "output_type": "execute_result"
    }
   ],
   "source": [
    "browser_data.groupby('slot')['n_clicks'].sum()"
   ]
  },
  {
   "cell_type": "markdown",
   "metadata": {},
   "source": [
    "Абсолютная разница и разница в процентном соотношении"
   ]
  },
  {
   "cell_type": "code",
   "execution_count": 8,
   "metadata": {},
   "outputs": [
    {
     "data": {
      "text/plain": [
       "51796"
      ]
     },
     "execution_count": 8,
     "metadata": {},
     "output_type": "execute_result"
    },
    {
     "name": "stdout",
     "output_type": "stream",
     "text": [
      "Различие в процентах: 1.614\n"
     ]
    }
   ],
   "source": [
    "abs(browser_data.groupby('slot')['n_clicks'].sum()['exp']-browser_data.groupby('slot')['n_clicks'].sum()['control'])\n",
    "print('Различие в процентах: %.3f' % ((browser_data.groupby('slot')['n_clicks'].sum()['exp']/browser_data.groupby('slot')['n_clicks'].sum()['control']-1)*100))"
   ]
  },
  {
   "cell_type": "markdown",
   "metadata": {},
   "source": [
    "Количество кликов в экспериментальной группе увеличлиось более чем на 1.5%."
   ]
  },
  {
   "cell_type": "markdown",
   "metadata": {},
   "source": [
    "##### Построим с помощью бутстрепа 95% доверительный интервал для средних значений и медиан количества кликов в каждой из двух групп. "
   ]
  },
  {
   "cell_type": "markdown",
   "metadata": {},
   "source": [
    "Средние значения кликов по каждой из групп."
   ]
  },
  {
   "cell_type": "code",
   "execution_count": 9,
   "metadata": {},
   "outputs": [
    {
     "data": {
      "text/plain": [
       "slot\n",
       "control    11.280906\n",
       "exp        11.584001\n",
       "Name: n_clicks, dtype: float64"
      ]
     },
     "execution_count": 9,
     "metadata": {},
     "output_type": "execute_result"
    }
   ],
   "source": [
    "browser_data.groupby('slot')['n_clicks'].agg(np.mean)"
   ]
  },
  {
   "cell_type": "markdown",
   "metadata": {},
   "source": [
    "Определим функции для бутстрепа и для определения границ доверительного интервала."
   ]
  },
  {
   "cell_type": "code",
   "execution_count": 10,
   "metadata": {},
   "outputs": [],
   "source": [
    "def get_bootstrap_samples(data, n_samples):\n",
    "    indices = np.random.randint(0, len(data), (n_samples, len(data)))\n",
    "    samples = data[indices]\n",
    "    return samples"
   ]
  },
  {
   "cell_type": "code",
   "execution_count": 11,
   "metadata": {},
   "outputs": [],
   "source": [
    "def stat_intervals(stat, alpha):\n",
    "    boundaries = np.percentile(stat, [100 * alpha / 2., 100 * (1 - alpha / 2.)])\n",
    "    return boundaries"
   ]
  },
  {
   "cell_type": "code",
   "execution_count": 12,
   "metadata": {},
   "outputs": [],
   "source": [
    "def build_confidence_interval(experim_group_metric, control_group_metric, mean_parametr):\n",
    "    np.random.seed(0)\n",
    "    experim_scores = list(map(mean_parametr,get_bootstrap_samples(experim_group_metric, 500)))\n",
    "    control_scores = list(map(mean_parametr,get_bootstrap_samples(control_group_metric, 500)))\n",
    "    experim_interval = stat_intervals(experim_scores, 0.05)\n",
    "    control_interval = stat_intervals(control_scores, 0.05)\n",
    "    print(f\"95% доверительный интервал для {mean_parametr.__name__} числа кликов в экспериментальной группе: {experim_interval}\", \n",
    "          f\"95% доверительный интервал для {mean_parametr.__name__} числа кликов в контрольной группе: {control_interval}\", sep='\\n')\n",
    "    return experim_interval, control_interval"
   ]
  },
  {
   "cell_type": "code",
   "execution_count": 13,
   "metadata": {},
   "outputs": [],
   "source": [
    "experim_user_clicks = browser_data[browser_data.slot == 'exp'].n_clicks.values\n",
    "control_user_clicks = browser_data[browser_data.slot == 'control'].n_clicks.values"
   ]
  },
  {
   "cell_type": "markdown",
   "metadata": {},
   "source": [
    "Построим доверительный интервал для медианных значений количества кликов в каждой из 2 групп."
   ]
  },
  {
   "cell_type": "code",
   "execution_count": 14,
   "metadata": {},
   "outputs": [
    {
     "name": "stdout",
     "output_type": "stream",
     "text": [
      "95% доверительный интервал для median числа кликов в экспериментальной группе: [5. 5.]\n",
      "95% доверительный интервал для median числа кликов в контрольной группе: [4. 4.]\n"
     ]
    }
   ],
   "source": [
    "experim_interval_median, control_interval_median = build_confidence_interval(experim_user_clicks, control_user_clicks, np.median)"
   ]
  },
  {
   "cell_type": "markdown",
   "metadata": {},
   "source": [
    "Построим доверительный интервал для средних значений количества кликов в каждой из 2 групп."
   ]
  },
  {
   "cell_type": "code",
   "execution_count": 15,
   "metadata": {
    "scrolled": true
   },
   "outputs": [
    {
     "name": "stdout",
     "output_type": "stream",
     "text": [
      "95% доверительный интервал для mean числа кликов в экспериментальной группе: [11.50789349 11.6588664 ]\n",
      "95% доверительный интервал для mean числа кликов в контрольной группе: [11.20668696 11.35347509]\n"
     ]
    }
   ],
   "source": [
    "experim_interval_mean, control_interval_mean = build_confidence_interval(experim_user_clicks, control_user_clicks, np.mean)"
   ]
  },
  {
   "cell_type": "markdown",
   "metadata": {},
   "source": [
    "Построим доверительный интервал для разности средних и медианных значений количества кликов между группами."
   ]
  },
  {
   "cell_type": "code",
   "execution_count": 16,
   "metadata": {},
   "outputs": [
    {
     "name": "stdout",
     "output_type": "stream",
     "text": [
      "95% доверительный интервал для разности медиан: [-1.0, -1.0]\n",
      "95% доверительный интервал для разности средних: [-0.3012065381288913, -0.3053913094314886]\n"
     ]
    }
   ],
   "source": [
    "delta_median_scores = list(map(lambda x: x[1] - x[0], zip(experim_interval_median, control_interval_median)))\n",
    "delta_mean_scores = list(map(lambda x: x[1] - x[0], zip(experim_interval_mean, control_interval_mean)))\n",
    "print(f\"95% доверительный интервал для разности медиан: {delta_median_scores}\", \n",
    "      f\"95% доверительный интервал для разности средних: {delta_mean_scores}\", sep='\\n')"
   ]
  },
  {
   "cell_type": "markdown",
   "metadata": {},
   "source": [
    "95% доверительные интервалы для разности средних и разности медиан не содержат нуля, что говорит нам о том, что средние и медианы количества кликов в группах имеют статистически значимые различия.\n",
    "\n",
    "Дополнительно проверим гипотезу о равенстве среднего количества кликов в группах."
   ]
  },
  {
   "cell_type": "markdown",
   "metadata": {},
   "source": [
    "### 2. Проверка гипотезы о равенстве среднего количества кликов в экспериментальной и тестовой групппах."
   ]
  },
  {
   "cell_type": "markdown",
   "metadata": {},
   "source": [
    "Поcтроим распределение кликов в контрольной и экспериментальной группах."
   ]
  },
  {
   "cell_type": "code",
   "execution_count": 17,
   "metadata": {},
   "outputs": [
    {
     "data": {
      "image/png": "[encoded data removed]",
      "text/plain": [
       "<Figure size 432x288 with 1 Axes>"
      ]
     },
     "metadata": {
      "needs_background": "light"
     },
     "output_type": "display_data"
    }
   ],
   "source": [
    "sns.kdeplot(browser_data.loc[browser_data.slot==\"control\",\"n_clicks\"],label=\"Контрольная группа\")\n",
    "sns.kdeplot(browser_data.loc[browser_data.slot==\"exp\",\"n_clicks\"],label=\"Экспериментальная группа\");"
   ]
  },
  {
   "cell_type": "markdown",
   "metadata": {},
   "source": [
    "Из графика видно, что распределение кликов не похоже на нормальное и у распределения тяжелый правый хвост. Скорее всего данные описываются распределением Пуассона."
   ]
  },
  {
   "cell_type": "markdown",
   "metadata": {},
   "source": [
    "##### Сформулируем проверяемую гипотезу:\n",
    "* H0: среднее количество кликов в группах не отличается\n",
    "* H1: среднее количество кликов в группах имеет различие"
   ]
  },
  {
   "cell_type": "markdown",
   "metadata": {},
   "source": [
    "##### Bootstrap и T-критерий Стьюдента"
   ]
  },
  {
   "cell_type": "markdown",
   "metadata": {},
   "source": [
    "Проверку гипотезы будем осуществлять с использованием  параметрического t-критерия Стьюдента. Но для его использования необходимо, чтобы выполнялись следующие условия:\n",
    "* среднее значение в выборке было распределено нормально N(μ,σ2n)\n",
    "* несмещенная оценка дисперсии c масштабирующим коэффициентом была распределена по хи-квадрат c n−1 степенями свободы χ2(n−1)"
   ]
  },
  {
   "cell_type": "markdown",
   "metadata": {},
   "source": [
    "\n",
    "Оба этих предположения можно проверить с помощью бутстрепа.\n",
    "Поскольку мы не знаем истинного распределения генеральной совокупности, применим бутстреп, чтобы понять, как распределены среднее значение и выборочная дисперсия.\n",
    "\n",
    "Для проверки требований t-критерия Стьюдента мы будем использовать контрольную группу, так как распределения в этих двух группах довольно схожи. Мы получим распределение оценок выборочного среднего и выборочной дисперсии и посмотрим, распределены ли они в соответствии с требованиями t-критерия Стьюдента (в силу Центральной предельной теоремы распределение выборочных средних должно быть нормально).\n",
    "\n",
    "Для этого осуществим следующие действия:\n",
    "\n",
    "* получим из данных 500 псевдовыборок.\n",
    "* по каждой из этих выборок посчитаем среднее и сумму квадратов отклонения от выборочного среднего\n",
    "* для получившегося вектора средних значений и сумм квадратов отклонения от выборочного среднего построим q-q plot с помощью scipy.stats.probplot.\n",
    "* дополнительно проверим нормальность с использованием критерия Шапиро-Уилка."
   ]
  },
  {
   "cell_type": "code",
   "execution_count": 18,
   "metadata": {},
   "outputs": [],
   "source": [
    "control_mean_scores = list(map(np.mean,get_bootstrap_samples(control_user_clicks, 500)))\n",
    "experim_mean_scores = list(map(np.mean,get_bootstrap_samples(experim_user_clicks, 500)))\n",
    "control_variance_scores = list(map(np.var,get_bootstrap_samples(control_user_clicks, 500)))\n",
    "experim_variance_scores = list(map(np.var,get_bootstrap_samples(experim_user_clicks, 500)))"
   ]
  },
  {
   "cell_type": "code",
   "execution_count": 19,
   "metadata": {},
   "outputs": [
    {
     "data": {
      "image/png": "[encoded data removed]",
      "text/plain": [
       "<Figure size 432x288 with 1 Axes>"
      ]
     },
     "metadata": {
      "needs_background": "light"
     },
     "output_type": "display_data"
    }
   ],
   "source": [
    "stats.probplot(control_mean_scores,plot = plt, rvalue=True)\n",
    "plt.title('q-q plot для вектора средних значений');"
   ]
  },
  {
   "cell_type": "code",
   "execution_count": 20,
   "metadata": {},
   "outputs": [
    {
     "data": {
      "image/png": "[encoded data removed]",
      "text/plain": [
       "<Figure size 432x288 with 1 Axes>"
      ]
     },
     "metadata": {
      "needs_background": "light"
     },
     "output_type": "display_data"
    }
   ],
   "source": [
    "stats.probplot(control_variance_scores,plot = plt, rvalue=True)\n",
    "plt.title('q-q plot для вектора сумм квадратов отклонения от выборочного среднего');"
   ]
  },
  {
   "cell_type": "markdown",
   "metadata": {},
   "source": [
    "Дополнительно проверим, что распределение выборочных средних является нормальным с помощью критерия проверки нормальности Шапиро-Уилка."
   ]
  },
  {
   "cell_type": "code",
   "execution_count": 21,
   "metadata": {},
   "outputs": [
    {
     "data": {
      "text/plain": [
       "False"
      ]
     },
     "execution_count": 21,
     "metadata": {},
     "output_type": "execute_result"
    }
   ],
   "source": [
    "stats.shapiro(control_mean_scores)[1]<0.05"
   ]
  },
  {
   "cell_type": "markdown",
   "metadata": {},
   "source": [
    "Гипотеза о нормальности распределения не овтергается."
   ]
  },
  {
   "cell_type": "markdown",
   "metadata": {},
   "source": [
    "##### Результаты оценки требований T-критерия Стьюдента.\n",
    "В принципе основываясь на визуальном анализе qq-графика, так и на полученном значении R^2 можно сделать вывод, что больших отклонений от нормальности не наблюдается и требования t-критерия удовлетворены.\n",
    "\n",
    "Дополнительно этот факт был подтвержден с использованием критерия проверки нормальности Шапиро-Уилка."
   ]
  },
  {
   "cell_type": "markdown",
   "metadata": {},
   "source": [
    "##### Применение T-критерия Стьюдента"
   ]
  },
  {
   "cell_type": "code",
   "execution_count": 22,
   "metadata": {},
   "outputs": [
    {
     "data": {
      "text/plain": [
       "Ttest_indResult(statistic=-122.8198320943985, pvalue=0.0)"
      ]
     },
     "execution_count": 22,
     "metadata": {},
     "output_type": "execute_result"
    }
   ],
   "source": [
    "stats.ttest_ind(control_mean_scores, experim_mean_scores, equal_var=False)"
   ]
  },
  {
   "cell_type": "markdown",
   "metadata": {},
   "source": [
    "T-критерий Стьюдента показал нам статически значимую разницу по среднему количеству кликов в группах. Таким образом нулевая гипотеза отвергается и принимается гипотеза о том, что среднее количество кликов в группах имеет различие."
   ]
  },
  {
   "cell_type": "markdown",
   "metadata": {},
   "source": [
    "##### Непараметрический критерий Манна-Уитни"
   ]
  },
  {
   "cell_type": "markdown",
   "metadata": {},
   "source": [
    "В случае, если требования T-критерия не будут удовлетворены, а количество данных для использования бутстрепа слишком велико, то можно воспользоваться критерием Манна-Уитни. \n",
    "\n",
    "Критерий Манна-Уитни представляет непараметрическую альтернативу T-критерия для независимых выборок. Преимущество его состоит в том, что мы отказываемся от предположения нормальности распределения и одинаковых дисперсий. Необходимо, чтобы данные были измерены как минимум в порядковой шкале."
   ]
  },
  {
   "cell_type": "code",
   "execution_count": 23,
   "metadata": {},
   "outputs": [
    {
     "data": {
      "text/plain": [
       "MannwhitneyuResult(statistic=0.0, pvalue=5.85617700980204e-165)"
      ]
     },
     "execution_count": 23,
     "metadata": {},
     "output_type": "execute_result"
    }
   ],
   "source": [
    "stats.mannwhitneyu(control_mean_scores, experim_mean_scores, alternative='two-sided')"
   ]
  },
  {
   "cell_type": "markdown",
   "metadata": {},
   "source": [
    "Критерий Манна-Уитни также опровергнул нулевую гипотезу о равенстве среднего количества кликов в группах."
   ]
  },
  {
   "cell_type": "markdown",
   "metadata": {},
   "source": [
    "На этом проверка гипотез не закончена. Нам также необходимо проверить имеются ли различия в кликах в разрезе используемых браузеров."
   ]
  },
  {
   "cell_type": "markdown",
   "metadata": {},
   "source": [
    "### 3. Проверка для какого из браузеров наиболее сильно выражено отличие между количеством кликов в контрольной и экспериментальной группах."
   ]
  },
  {
   "cell_type": "markdown",
   "metadata": {},
   "source": [
    "Для этого применим для каждого из срезов (по каждому из уникальных значений столбца browser) критерий Манна-Уитни между контрольной и экспериментальной группами, а затем сделаем поправку Холма-Бонферрони на множественную проверку с α=0.05."
   ]
  },
  {
   "cell_type": "code",
   "execution_count": 24,
   "metadata": {},
   "outputs": [
    {
     "name": "stdout",
     "output_type": "stream",
     "text": [
      "P-value в тесте Манна-Уитни для браузера 2 без поправки равно 0.0545##\n",
      "P-value в тесте Манна-Уитни для браузера 4 без поправки равно 0.8152##\n",
      "P-value в тесте Манна-Уитни для браузера 14 без поправки равно 0.0000##\n",
      "P-value в тесте Манна-Уитни для браузера 17 без поправки равно 0.0748##\n",
      "P-value в тесте Манна-Уитни для браузера 20 без поправки равно 0.9073##\n",
      "P-value в тесте Манна-Уитни для браузера 22 без поправки равно 0.5148##\n"
     ]
    }
   ],
   "source": [
    "mw_p_val_list = []\n",
    "for browser in browser_data.browser.unique():\n",
    "    experim_nclicks_on_browser = browser_data[(browser_data.browser == browser) & (browser_data.slot == 'exp')].n_clicks\n",
    "    control_nclicks_on_browser = browser_data[(browser_data.browser == browser) & (browser_data.slot == 'control')].n_clicks\n",
    "    mw_p_val_list.append(stats.mannwhitneyu(experim_nclicks_on_browser,control_nclicks_on_browser,alternative=\"two-sided\")[1])\n",
    "    print(\"P-value в тесте Манна-Уитни для браузера %s без поправки равно %.4f##\" % \n",
    "        (browser,\n",
    "         stats.mannwhitneyu(experim_nclicks_on_browser,control_nclicks_on_browser,alternative=\"two-sided\")[1]))"
   ]
  },
  {
   "cell_type": "code",
   "execution_count": 25,
   "metadata": {},
   "outputs": [
    {
     "name": "stdout",
     "output_type": "stream",
     "text": [
      "P-value в тесте Манна-Уитни для браузера 2 c поправкой Холма-Бонферрони равно 0.2724##\n",
      "P-value в тесте Манна-Уитни для браузера 4 c поправкой Холма-Бонферрони равно 1.0000##\n",
      "P-value в тесте Манна-Уитни для браузера 14 c поправкой Холма-Бонферрони равно 0.0000##\n",
      "P-value в тесте Манна-Уитни для браузера 17 c поправкой Холма-Бонферрони равно 0.2992##\n",
      "P-value в тесте Манна-Уитни для браузера 20 c поправкой Холма-Бонферрони равно 1.0000##\n",
      "P-value в тесте Манна-Уитни для браузера 22 c поправкой Холма-Бонферрони равно 1.0000##\n"
     ]
    }
   ],
   "source": [
    "_, mw_p_val_list_corr, _, _ = multipletests(mw_p_val_list, alpha = 0.05, method = 'holm')\n",
    "for i, browser in enumerate(browser_data.browser.unique()):\n",
    "        print(\"P-value в тесте Манна-Уитни для браузера %s c поправкой Холма-Бонферрони равно %.4f##\" % \n",
    "        (browser, mw_p_val_list_corr[i]))"
   ]
  },
  {
   "cell_type": "markdown",
   "metadata": {},
   "source": [
    "Видны значимые изменения в среднем количестве кликов в версии браузера 14."
   ]
  },
  {
   "cell_type": "markdown",
   "metadata": {},
   "source": [
    "### 4. Выводы"
   ]
  },
  {
   "cell_type": "markdown",
   "metadata": {},
   "source": [
    "По результатам тестирования видим значимое изменение в среднем количестве кликов только для браузера 14. Таким образом можно порекомендовать чтобы изменение на web-странице в этом браузере было реализовано для пользователей.\n",
    "\n",
    "В случае, если бы мы не использовали анализ количества кликов по браузерам, то могли внедрить изменения на все версии браузера, что в дальнейшем могло повлечь негативные изменения в плане опыта пользователей. Например для пользователей с версиями браузера 4, 20 и 22.\n",
    "\n",
    "Но если мы все таки хотим внедрять изменения для всех браузеров, рекомендуется собрать больше образцов, чтобы убедиться, что для пользователей определенной версии браузера мы не собираемся ухудшать работу."
   ]
  }
 ],
 "metadata": {
  "kernelspec": {
   "display_name": "Python 3",
   "language": "python",
   "name": "python3"
  },
  "language_info": {
   "codemirror_mode": {
    "name": "ipython",
    "version": 3
   },
   "file_extension": ".py",
   "mimetype": "text/x-python",
   "name": "python",
   "nbconvert_exporter": "python",
   "pygments_lexer": "ipython3",
   "version": "3.7.6"
  },
  "latex_envs": {
   "LaTeX_envs_menu_present": true,
   "autoclose": false,
   "autocomplete": true,
   "bibliofile": "biblio.bib",
   "cite_by": "apalike",
   "current_citInitial": 1,
   "eqLabelWithNumbers": true,
   "eqNumInitial": 1,
   "hotkeys": {
    "equation": "Ctrl-E",
    "itemize": "Ctrl-I"
   },
   "labels_anchors": false,
   "latex_user_defs": false,
   "report_style_numbering": false,
   "user_envs_cfg": false
  }
 },
 "nbformat": 4,
 "nbformat_minor": 4
}
